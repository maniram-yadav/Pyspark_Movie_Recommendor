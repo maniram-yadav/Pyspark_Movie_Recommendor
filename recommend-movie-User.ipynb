{
 "cells": [
  {
   "cell_type": "code",
   "execution_count": 11,
   "metadata": {
    "collapsed": true
   },
   "outputs": [],
   "source": [
    "#from pyspark import SparkConf,SparkContext\n",
    "from pyspark.mllib.recommendation import Rating,ALS\n",
    "from pyspark.sql import SparkSession\n",
    "import sys"
   ]
  },
  {
   "cell_type": "code",
   "execution_count": 12,
   "metadata": {
    "collapsed": true
   },
   "outputs": [],
   "source": [
    "spark = SparkSession.builder.appName(\"Recommend\").master(\"local[2]\").getOrCreate()\n",
    "movierdd = spark.read.option(\"header\",\"true\").csv(\"/home/maniram/big_data/movie/movies.csv\")\n",
    "ratingsrdd = spark.sparkContext.textFile(\"/home/maniram/big_data/movie/u.data\")"
   ]
  },
  {
   "cell_type": "code",
   "execution_count": 13,
   "metadata": {
    "collapsed": true
   },
   "outputs": [],
   "source": [
    "def movieIdDictionary():\n",
    "    movieNames = {}\n",
    "    movielist = movierdd.select(\"movieId\",\"title\").collect()\n",
    "    for i in range(movierdd.count()):\n",
    "        movieNames[int(movielist[i].movieId)] = movielist[i].title \n",
    "    return movieNames"
   ]
  },
  {
   "cell_type": "code",
   "execution_count": 25,
   "metadata": {},
   "outputs": [
    {
     "name": "stdout",
     "output_type": "stream",
     "text": [
      "Total samples :  100004\n"
     ]
    },
    {
     "data": {
      "text/plain": [
       "[Rating(user=1, product=31, rating=2.5),\n",
       " Rating(user=1, product=1029, rating=3.0),\n",
       " Rating(user=1, product=1061, rating=3.0),\n",
       " Rating(user=1, product=1129, rating=2.0),\n",
       " Rating(user=1, product=1172, rating=4.0)]"
      ]
     },
     "execution_count": 25,
     "metadata": {},
     "output_type": "execute_result"
    }
   ],
   "source": [
    "\n",
    "ratingsRDD = ratingsrdd.map(lambda l: l.split(',')) \\\n",
    "            .map(lambda l: Rating(int(l[0]), int(l[1]), float(l[2]))) \\\n",
    "            .cache()\n",
    "print(\"Total samples : \",ratingsRDD.count())\n",
    "ratingsRDD.take(5)\n",
    "\n"
   ]
  },
  {
   "cell_type": "code",
   "execution_count": null,
   "metadata": {
    "collapsed": true
   },
   "outputs": [],
   "source": []
  },
  {
   "cell_type": "code",
   "execution_count": 26,
   "metadata": {},
   "outputs": [
    {
     "name": "stdout",
     "output_type": "stream",
     "text": [
      "Traing of Data Starts using ALS\n",
      "Rating given by User Id :  1\n",
      "Dangerous Minds (1995): 2.5\n",
      "Dumbo (1941): 3.0\n",
      "Sleepers (1996): 3.0\n",
      "Escape from New York (1981): 2.0\n",
      "Cinema Paradiso (Nuovo cinema Paradiso) (1989): 4.0\n",
      "Deer Hunter, The (1978): 2.0\n",
      "Ben-Hur (1959): 2.0\n",
      "Gandhi (1982): 2.0\n",
      "Dracula (Bram Stoker's Dracula) (1992): 3.5\n",
      "Cape Fear (1991): 2.0\n",
      "Star Trek: The Motion Picture (1979): 2.5\n",
      "Beavis and Butt-Head Do America (1996): 1.0\n",
      "French Connection, The (1971): 4.0\n",
      "Tron (1982): 4.0\n",
      "Gods Must Be Crazy, The (1980): 3.0\n",
      "Willow (1988): 2.0\n",
      "Antz (1998): 2.0\n",
      "Fly, The (1986): 2.5\n",
      "Time Bandits (1981): 1.0\n",
      "Blazing Saddles (1974): 3.0\n",
      "Top 10 recommendation for the user : \n",
      " \n",
      "Movie  Business of Strangers, The (2001)  Scores  8.638791586728951\n",
      "Movie  Ravenous (1999)  Scores  8.457530930387266\n",
      "Movie  Hear My Song (1991)  Scores  7.842387948442017\n",
      "Movie  Fabulous Baker Boys, The (1989)  Scores  7.583680653370565\n",
      "Movie  Nowhere in Africa (Nirgendwo in Afrika) (2001)  Scores  7.561571477709581\n",
      "Movie  Howards End (1992)  Scores  7.518534353818162\n",
      "Movie  Horse Feathers (1932)  Scores  7.290719073455775\n",
      "Movie  Marvin's Room (1996)  Scores  7.197294254134534\n",
      "Movie  Garden of the Finzi-Continis, The (Giardino dei Finzi-Contini, Il) (1970)  Scores  6.735759138683233\n",
      "Movie  Trees Lounge (1996)  Scores  6.671953332549336\n"
     ]
    }
   ],
   "source": [
    "print(\"Traing of Data Starts using ALS\")\n",
    "rank = 10\n",
    "numIterations = 6\n",
    "model = ALS.train(ratingsRDD,rank,iterations=numIterations)\n",
    "userId = 1\n",
    "print(\"Rating given by User Id : \",userId)\n",
    "filterUserRating = ratingsRDD.filter(lambda x :x[0]==userId)\n",
    "movieNamesDict = movieIdDictionary()\n",
    "for rating in filterUserRating.collect():\n",
    "    print (movieNamesDict[int(rating[1])] + \": \" + str(rating[2]))\n",
    "\n",
    "print(\"Top 10 recommendation for the user : \\n \")\n",
    "\n",
    "recommend_movie_list =[]\n",
    "\n",
    "recommendMovie = model.recommendProducts(userId,10)\n",
    "for recommendations in recommendMovie:\n",
    "    print(\"Movie \",movieNamesDict[int(recommendations[1])],\" Scores \",str(recommendations[2]))\n",
    "    recommend_movie_list.append(movieNamesDict[int(recommendations[1])])\n"
   ]
  },
  {
   "cell_type": "code",
   "execution_count": 27,
   "metadata": {},
   "outputs": [
    {
     "name": "stdout",
     "output_type": "stream",
     "text": [
      "Following movie should be recommended to user 1 based user activity in the past\n",
      "\n",
      "\n",
      "\n",
      "Business of Strangers, The (2001)\n",
      "Ravenous (1999)\n",
      "Hear My Song (1991)\n",
      "Fabulous Baker Boys, The (1989)\n",
      "Nowhere in Africa (Nirgendwo in Afrika) (2001)\n",
      "Howards End (1992)\n",
      "Horse Feathers (1932)\n",
      "Marvin's Room (1996)\n",
      "Garden of the Finzi-Continis, The (Giardino dei Finzi-Contini, Il) (1970)\n",
      "Trees Lounge (1996)\n",
      "\n",
      "\n",
      "\n",
      " Operation Finished\n"
     ]
    }
   ],
   "source": [
    "print(\"Following movie should be recommended to user %d based user activity in the past\\n\\n\\n\"%userId)\n",
    "for movieName in recommend_movie_list:\n",
    "    print(movieName)\n",
    "print(\"\\n\"*3,\"Operation Finished\")\n",
    "\n"
   ]
  },
  {
   "cell_type": "code",
   "execution_count": null,
   "metadata": {
    "collapsed": true
   },
   "outputs": [],
   "source": []
  }
 ],
 "metadata": {
  "kernelspec": {
   "display_name": "Python 3",
   "language": "python",
   "name": "python3"
  },
  "language_info": {
   "codemirror_mode": {
    "name": "ipython",
    "version": 3
   },
   "file_extension": ".py",
   "mimetype": "text/x-python",
   "name": "python",
   "nbconvert_exporter": "python",
   "pygments_lexer": "ipython3",
   "version": "3.6.3"
  }
 },
 "nbformat": 4,
 "nbformat_minor": 2
}
