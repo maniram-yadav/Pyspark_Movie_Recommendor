{
 "cells": [
  {
   "cell_type": "code",
   "execution_count": 2,
   "metadata": {},
   "outputs": [],
   "source": [
    "from pyspark.sql import SparkSession\n",
    "import collections"
   ]
  },
  {
   "cell_type": "code",
   "execution_count": 7,
   "metadata": {
    "collapsed": true
   },
   "outputs": [],
   "source": [
    "spark = SparkSession.builder.appName(\"\").master(\"local[2]\").getOrCreate()\n",
    "data = spark.sparkContext.textFile(\"/home/maniram/big_data/movie/ratings.csv\")"
   ]
  },
  {
   "cell_type": "code",
   "execution_count": 8,
   "metadata": {},
   "outputs": [
    {
     "data": {
      "text/plain": [
       "['userId,movieId,rating,timestamp',\n",
       " '1,31,2.5,1260759144',\n",
       " '1,1029,3.0,1260759179',\n",
       " '1,1061,3.0,1260759182']"
      ]
     },
     "execution_count": 8,
     "metadata": {},
     "output_type": "execute_result"
    }
   ],
   "source": [
    "data.take(4)"
   ]
  },
  {
   "cell_type": "markdown",
   "metadata": {},
   "source": [
    "# Extract Rating Columns from file"
   ]
  },
  {
   "cell_type": "code",
   "execution_count": 9,
   "metadata": {},
   "outputs": [
    {
     "data": {
      "text/plain": [
       "['rating', '2.5', '3.0', '3.0', '2.0', '4.0', '2.0', '2.0', '2.0', '3.5']"
      ]
     },
     "execution_count": 9,
     "metadata": {},
     "output_type": "execute_result"
    }
   ],
   "source": [
    "ratings = data.map(lambda x: x.split(\",\")[2])\n",
    "ratings.take(10)\n",
    "\n"
   ]
  },
  {
   "cell_type": "markdown",
   "metadata": {},
   "source": [
    "# Remove Column header"
   ]
  },
  {
   "cell_type": "code",
   "execution_count": 15,
   "metadata": {},
   "outputs": [
    {
     "data": {
      "text/plain": [
       "['2.5', '3.0', '3.0', '2.0', '4.0', '2.0', '2.0', '2.0', '3.5', '2.0']"
      ]
     },
     "execution_count": 15,
     "metadata": {},
     "output_type": "execute_result"
    }
   ],
   "source": [
    "filteValues = ratings.filter(lambda val : val != 'rating')\n",
    "filteValues.take(10)"
   ]
  },
  {
   "cell_type": "markdown",
   "metadata": {},
   "source": [
    "\n",
    "# Group by rating value & count the number of ratings"
   ]
  },
  {
   "cell_type": "code",
   "execution_count": 59,
   "metadata": {},
   "outputs": [],
   "source": [
    "countRating = filteValues.map(lambda x : (float(x),1)).reduceByKey(lambda x,y:x+y)"
   ]
  },
  {
   "cell_type": "code",
   "execution_count": 62,
   "metadata": {},
   "outputs": [
    {
     "data": {
      "text/plain": [
       "[(0.5, 1101),\n",
       " (1.0, 3326),\n",
       " (1.5, 1687),\n",
       " (2.0, 7271),\n",
       " (2.5, 4449),\n",
       " (3.0, 20064),\n",
       " (3.5, 10538),\n",
       " (4.0, 28750)]"
      ]
     },
     "execution_count": 62,
     "metadata": {},
     "output_type": "execute_result"
    }
   ],
   "source": [
    "sortedRatingcount = countRating.sortByKey()\n",
    "sortedRatingcount.take(8)"
   ]
  },
  {
   "cell_type": "code",
   "execution_count": 71,
   "metadata": {},
   "outputs": [
    {
     "name": "stdout",
     "output_type": "stream",
     "text": [
      "Number of  0.5  ratings in data is  :  1101\n",
      "Number of  1.0  ratings in data is  :  3326\n",
      "Number of  1.5  ratings in data is  :  1687\n",
      "Number of  2.0  ratings in data is  :  7271\n",
      "Number of  2.5  ratings in data is  :  4449\n",
      "Number of  3.0  ratings in data is  :  20064\n",
      "Number of  3.5  ratings in data is  :  10538\n",
      "Number of  4.0  ratings in data is  :  28750\n",
      "Number of  4.5  ratings in data is  :  7723\n",
      "Number of  5.0  ratings in data is  :  15095\n"
     ]
    }
   ],
   "source": [
    "\n",
    "for ratingcount in sortedRatingcount.collect():\n",
    "    print(\"Number of \",ratingcount[0],\" ratings in data is  : \",ratingcount[1])"
   ]
  },
  {
   "cell_type": "code",
   "execution_count": 72,
   "metadata": {
    "collapsed": true
   },
   "outputs": [],
   "source": [
    "#  The maximum number of ratings in the record is Rating 4.0"
   ]
  },
  {
   "cell_type": "code",
   "execution_count": null,
   "metadata": {
    "collapsed": true
   },
   "outputs": [],
   "source": []
  }
 ],
 "metadata": {
  "kernelspec": {
   "display_name": "Python 3",
   "language": "python",
   "name": "python3"
  },
  "language_info": {
   "codemirror_mode": {
    "name": "ipython",
    "version": 3
   },
   "file_extension": ".py",
   "mimetype": "text/x-python",
   "name": "python",
   "nbconvert_exporter": "python",
   "pygments_lexer": "ipython3",
   "version": "3.6.3"
  }
 },
 "nbformat": 4,
 "nbformat_minor": 2
}
